{
 "cells": [
  {
   "cell_type": "code",
   "execution_count": 1,
   "id": "a85f21a1",
   "metadata": {},
   "outputs": [],
   "source": [
    "import torch"
   ]
  },
  {
   "cell_type": "code",
   "execution_count": 2,
   "id": "17cdb01c",
   "metadata": {},
   "outputs": [],
   "source": [
    "\"\"\"A module for \"\"\"\n",
    "import torch\n",
    "\n",
    "\n",
    "class MatrixFactorization(torch.nn.Module):\n",
    "    def __init__(self, n_users: int, n_items: int, n_factors: int = 4):\n",
    "        super().__init__()\n",
    "        # Create user embeddings\n",
    "        self.user_factors = torch.nn.Embedding(n_users, n_factors)\n",
    "        # Create item embeddings\n",
    "        self.tem_factors = torch.nn.Embedding(n_items, n_factors)\n",
    "\n",
    "        # Set the weights initially\n",
    "        self.user_factors.weight.data.uniform_(0, 0.05)\n",
    "        self.item_factors.weight.data.uniform_(0, 0.05)\n",
    "\n",
    "    def forward(self, data):\n",
    "        \"\"\"Feed forward the network with simple matrix multiplication.\"\"\"\n",
    "        users, items = data[:, 0], data[:, 1]\n",
    "        return (self.user_factors(users) * self.item_factors(items)).sum(1)\n"
   ]
  },
  {
   "cell_type": "code",
   "execution_count": 3,
   "id": "92a5ba1f",
   "metadata": {},
   "outputs": [],
   "source": [
    "embeddings = torch.nn.Embedding(10, 4)"
   ]
  },
  {
   "cell_type": "code",
   "execution_count": 5,
   "id": "cb2c08e2",
   "metadata": {},
   "outputs": [
    {
     "data": {
      "text/plain": [
       "tensor([[0.0376, 0.0065, 0.0087, 0.0489],\n",
       "        [0.0150, 0.0051, 0.0144, 0.0184],\n",
       "        [0.0377, 0.0035, 0.0064, 0.0462],\n",
       "        [0.0045, 0.0257, 0.0079, 0.0222],\n",
       "        [0.0098, 0.0041, 0.0277, 0.0113],\n",
       "        [0.0274, 0.0338, 0.0495, 0.0086],\n",
       "        [0.0078, 0.0460, 0.0258, 0.0045],\n",
       "        [0.0126, 0.0048, 0.0379, 0.0211],\n",
       "        [0.0420, 0.0114, 0.0327, 0.0357],\n",
       "        [0.0071, 0.0206, 0.0327, 0.0279]])"
      ]
     },
     "execution_count": 5,
     "metadata": {},
     "output_type": "execute_result"
    }
   ],
   "source": [
    "embeddings.weight.data.uniform_(0, 0.05)"
   ]
  },
  {
   "cell_type": "code",
   "execution_count": 10,
   "id": "b3c9b85b",
   "metadata": {},
   "outputs": [],
   "source": [
    "idx = torch.tensor([1, 2])"
   ]
  },
  {
   "cell_type": "code",
   "execution_count": 13,
   "id": "0e1788d8",
   "metadata": {},
   "outputs": [],
   "source": [
    "U = embeddings(idx)\n",
    "V = embeddings(torch.tensor([4, 5]))"
   ]
  },
  {
   "cell_type": "code",
   "execution_count": 18,
   "id": "2520c092",
   "metadata": {},
   "outputs": [
    {
     "data": {
      "text/plain": [
       "tensor([0.0008, 0.0019], grad_fn=<SumBackward1>)"
      ]
     },
     "execution_count": 18,
     "metadata": {},
     "output_type": "execute_result"
    }
   ],
   "source": [
    "(U * V).sum(1)"
   ]
  },
  {
   "cell_type": "code",
   "execution_count": null,
   "id": "f505cee2",
   "metadata": {},
   "outputs": [],
   "source": []
  }
 ],
 "metadata": {
  "kernelspec": {
   "display_name": "Python: RG 3.10",
   "language": "python",
   "name": "radial-gradient"
  },
  "language_info": {
   "codemirror_mode": {
    "name": "ipython",
    "version": 3
   },
   "file_extension": ".py",
   "mimetype": "text/x-python",
   "name": "python",
   "nbconvert_exporter": "python",
   "pygments_lexer": "ipython3",
   "version": "3.10.4"
  }
 },
 "nbformat": 4,
 "nbformat_minor": 5
}
